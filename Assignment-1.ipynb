{
 "cells": [
  {
   "cell_type": "markdown",
   "metadata": {},
   "source": [
    "# Mammalia-Macaque-Dominance Network\n",
    "\n",
    "Laura Silvana Alvarez Luque - Daniel Losada Molina\n"
   ]
  },
  {
   "cell_type": "markdown",
   "metadata": {},
   "source": [
    "The dominance relations between *Macaca fuscata* females were determined based on approach-retreat episodes around the food. The dominance range order was arranged based on these dyadic relations. Dominance is defined as \"Physical contact unique to aggressive dominance interactions such as biting, head butting, fighting\"\n",
    "\n",
    "- **Vertices:** 62 Macaques.\n",
    "- **Edges:** 1.167 edges representing the pairwise dominance between macaques.\n",
    "- **Weights:** Frequency of the dominance.\n",
    "- **Notes:**  This is a animal interation network, undirected and weighted."
   ]
  },
  {
   "cell_type": "markdown",
   "metadata": {},
   "source": [
    "![Macaca Fuscata](./imgs/Macaca.png)\n"
   ]
  },
  {
   "cell_type": "code",
   "execution_count": 35,
   "metadata": {},
   "outputs": [],
   "source": [
    "import zipfile\n",
    "\n",
    "import matplotlib.pyplot as plt\n",
    "import igraph as ig\n",
    "import plotly.graph_objects as go\n",
    "import networkx as nx\n",
    "import numpy as np\n",
    "\n"
   ]
  },
  {
   "cell_type": "code",
   "execution_count": 11,
   "metadata": {},
   "outputs": [],
   "source": [
    "def unzip_file(zip_path, extract_to):\n",
    "    \"\"\"\n",
    "    Unzip a file from zip_path into the extract_to directory.\n",
    "    \"\"\"\n",
    "    with zipfile.ZipFile(zip_path, 'r') as zip_ref:\n",
    "        zip_ref.extractall(extract_to)\n",
    "\n",
    "unzip_file('./mammalia-macaque-dominance.zip', './data')\n"
   ]
  },
  {
   "cell_type": "code",
   "execution_count": null,
   "metadata": {},
   "outputs": [
    {
     "name": "stdout",
     "output_type": "stream",
     "text": [
      "IGRAPH UNW- 62 1167 -- \n",
      "+ attr: name (v), weight (e)\n"
     ]
    }
   ],
   "source": [
    "g = ig.Graph.Read_Ncol(\"data/mammalia-macaque-dominance.edges\", weights=True, directed=False)"
   ]
  },
  {
   "cell_type": "code",
   "execution_count": 13,
   "metadata": {},
   "outputs": [],
   "source": [
    "def plot_simple_graph(g):\n",
    "    # Layout for node positions\n",
    "    layout = g.layout(\"fr\")  # Fruchterman-Reingold (force-directed)\n",
    "\n",
    "    # Plot using igraph's built-in plot function\n",
    "    ig.plot(\n",
    "        g,\n",
    "        layout=layout,\n",
    "        vertex_label=g.vs.indices,  # show node indices\n",
    "        edge_width=[w for w in g.es[\"weight\"]],\n",
    "        bbox=(800, 800),\n",
    "        margin=50\n",
    "    )"
   ]
  },
  {
   "cell_type": "code",
   "execution_count": 14,
   "metadata": {},
   "outputs": [],
   "source": [
    "def plotly_graph(g):    \n",
    "    # Convert to NetworkX\n",
    "    G_nx = g.to_networkx()\n",
    "\n",
    "    # Get layout positions\n",
    "    pos = nx.spring_layout(G_nx)\n",
    "\n",
    "    # Prepare edge lines\n",
    "    edge_x = []\n",
    "    edge_y = []\n",
    "    for u, v in G_nx.edges():\n",
    "        x0, y0 = pos[u]\n",
    "        x1, y1 = pos[v]\n",
    "        edge_x += [x0, x1, None]\n",
    "        edge_y += [y0, y1, None]\n",
    "\n",
    "    edge_trace = go.Scatter(\n",
    "        x=edge_x,\n",
    "        y=edge_y,\n",
    "        line=dict(width=0.5, color='#888'),\n",
    "        hoverinfo='none',\n",
    "        mode='lines',\n",
    "        showlegend=False\n",
    "    )\n",
    "\n",
    "    # Create \"hover points\" at edge midpoints\n",
    "    edge_hover_x = []\n",
    "    edge_hover_y = []\n",
    "    edge_text = []\n",
    "\n",
    "    for u, v, data in G_nx.edges(data=True):\n",
    "        x0, y0 = pos[u]\n",
    "        x1, y1 = pos[v]\n",
    "        edge_hover_x.append((x0 + x1) / 2)\n",
    "        edge_hover_y.append((y0 + y1) / 2)\n",
    "        weight = data.get(\"weight\", 1)\n",
    "        edge_text.append(f\"{u} — {v}<br>weight: {weight}\")\n",
    "\n",
    "    edge_hover_trace = go.Scatter(\n",
    "        x=edge_hover_x,\n",
    "        y=edge_hover_y,\n",
    "        mode='markers',\n",
    "        hoverinfo='text',\n",
    "        text=edge_text,\n",
    "        marker=dict(size=5, color='rgba(0,0,0,0)'),  # invisible\n",
    "        showlegend=False\n",
    "    )\n",
    "\n",
    "    # Prepare node positions\n",
    "    node_x = []\n",
    "    node_y = []\n",
    "    node_text = []\n",
    "    for node in G_nx.nodes():\n",
    "        x, y = pos[node]\n",
    "        node_x.append(x)\n",
    "        node_y.append(y)\n",
    "        node_text.append(f\"Node {node}\")\n",
    "\n",
    "    node_trace = go.Scatter(\n",
    "        x=node_x,\n",
    "        y=node_y,\n",
    "        mode='markers+text',\n",
    "        text=[str(n) for n in G_nx.nodes()],\n",
    "        textposition='top center',\n",
    "        hoverinfo='text',\n",
    "        marker=dict(\n",
    "            size=10,\n",
    "            color='lightblue',\n",
    "            line_width=1\n",
    "        )\n",
    "    )\n",
    "\n",
    "    # Combine everything\n",
    "    fig = go.Figure(\n",
    "        data=[edge_trace, edge_hover_trace, node_trace],\n",
    "        layout=go.Layout(\n",
    "            title='Dominance Network of Macaques',\n",
    "            showlegend=False,\n",
    "            hovermode='closest',\n",
    "            margin=dict(b=20, l=5, r=5, t=40),\n",
    "            xaxis=dict(showgrid=False, zeroline=False),\n",
    "            yaxis=dict(showgrid=False, zeroline=False)\n",
    "        )\n",
    "    )\n",
    "\n",
    "    fig.show()\n",
    "\n",
    "#plotly_graph(g)\n"
   ]
  },
  {
   "cell_type": "markdown",
   "metadata": {},
   "source": [
    "![Macaca Fuscata](./imgs/Graph.png)\n"
   ]
  },
  {
   "cell_type": "markdown",
   "metadata": {},
   "source": []
  },
  {
   "cell_type": "code",
   "execution_count": 32,
   "metadata": {},
   "outputs": [
    {
     "name": "stdout",
     "output_type": "stream",
     "text": [
      "IGRAPH UNW- 62 1167 -- \n",
      "+ attr: name (v), weight (e)\n",
      "The order of the network is: 62\n",
      "The size of the network is: 1167\n"
     ]
    }
   ],
   "source": [
    "print(g.summary())\n",
    "order = g.vcount()\n",
    "size = g.ecount()\n",
    "\n",
    "print(f\"The order of the network is: {order}\")\n",
    "print(f\"The size of the network is: {size}\")"
   ]
  },
  {
   "cell_type": "code",
   "execution_count": null,
   "metadata": {},
   "outputs": [
    {
     "name": "stdout",
     "output_type": "stream",
     "text": [
      "maximum degree: 55\n",
      "[38, 24, 44, 36, 38, 41, 49, 46, 46, 47, 31, 38, 34, 35, 36, 42, 35, 53, 40, 35, 45, 39, 35, 32, 47, 40, 35, 44, 33, 55, 43, 32, 39, 31, 45, 43, 37, 32, 51, 34, 46, 37, 45, 37, 34, 17, 29, 38, 44, 34, 31, 30, 34, 43, 27, 36, 37, 44, 29, 34, 28, 20]\n"
     ]
    }
   ],
   "source": [
    "# degrees\n",
    "print(f\"maximum degree: {g.maxdegree()}\")\n",
    "\n",
    "degrees = []\n",
    "\n",
    "for i in range(order):\n",
    "    degree = g.vs[i].degree()\n",
    "    degrees.append(degree)\n",
    "    \n",
    "print(degrees)    \n",
    "#print(f\"degree of vertex {i}, = {g.vs[i].degree()}\")\n"
   ]
  },
  {
   "cell_type": "code",
   "execution_count": null,
   "metadata": {},
   "outputs": [
    {
     "data": {
      "image/png": "[encoded data removed]",
      "text/plain": [
       "<Figure size 800x500 with 1 Axes>"
      ]
     },
     "metadata": {},
     "output_type": "display_data"
    }
   ],
   "source": [
    "unique_degrees, counts = np.unique(degrees, return_counts=True)\n",
    "probabilities = counts / counts.sum()  # Normalize to get probability\n",
    "\n",
    "# Plot the degree distribution\n",
    "plt.figure(figsize=(8, 5))\n",
    "plt.scatter(unique_degrees, probabilities, color='black')  # Dots\n",
    "plt.vlines(unique_degrees, 0, probabilities, color='blue', alpha=0.6)  # Vertical lines\n",
    "\n",
    "# Labels and title\n",
    "plt.xlabel(\"Degree\")\n",
    "plt.ylabel(\"Frequency\")\n",
    "plt.title(\"Degree Distribution of Macaque Dominance\")\n",
    "\n",
    "# Show plot\n",
    "plt.show()\n"
   ]
  },
  {
   "cell_type": "markdown",
   "metadata": {},
   "source": [
    "The dominance interactions between the macaques are "
   ]
  },
  {
   "cell_type": "code",
   "execution_count": 42,
   "metadata": {},
   "outputs": [
    {
     "name": "stdout",
     "output_type": "stream",
     "text": [
      "Node 0: Weighted Degree = 82.0\n",
      "Node 1: Weighted Degree = 41.0\n",
      "Node 2: Weighted Degree = 80.0\n",
      "Node 3: Weighted Degree = 61.0\n",
      "Node 4: Weighted Degree = 97.0\n",
      "Node 5: Weighted Degree = 83.0\n",
      "Node 6: Weighted Degree = 94.0\n",
      "Node 7: Weighted Degree = 118.0\n",
      "Node 8: Weighted Degree = 108.0\n",
      "Node 9: Weighted Degree = 136.0\n",
      "Node 10: Weighted Degree = 59.0\n",
      "Node 11: Weighted Degree = 56.0\n",
      "Node 12: Weighted Degree = 51.0\n",
      "Node 13: Weighted Degree = 71.0\n",
      "Node 14: Weighted Degree = 82.0\n",
      "Node 15: Weighted Degree = 90.0\n",
      "Node 16: Weighted Degree = 62.0\n",
      "Node 17: Weighted Degree = 122.0\n",
      "Node 18: Weighted Degree = 109.0\n",
      "Node 19: Weighted Degree = 65.0\n",
      "Node 20: Weighted Degree = 104.0\n",
      "Node 21: Weighted Degree = 76.0\n",
      "Node 22: Weighted Degree = 85.0\n",
      "Node 23: Weighted Degree = 52.0\n",
      "Node 24: Weighted Degree = 98.0\n",
      "Node 25: Weighted Degree = 73.0\n",
      "Node 26: Weighted Degree = 74.0\n",
      "Node 27: Weighted Degree = 94.0\n",
      "Node 28: Weighted Degree = 70.0\n",
      "Node 29: Weighted Degree = 143.0\n",
      "Node 30: Weighted Degree = 83.0\n",
      "Node 31: Weighted Degree = 53.0\n",
      "Node 32: Weighted Degree = 89.0\n",
      "Node 33: Weighted Degree = 54.0\n",
      "Node 34: Weighted Degree = 108.0\n",
      "Node 35: Weighted Degree = 74.0\n",
      "Node 36: Weighted Degree = 80.0\n",
      "Node 37: Weighted Degree = 58.0\n",
      "Node 38: Weighted Degree = 123.0\n",
      "Node 39: Weighted Degree = 65.0\n",
      "Node 40: Weighted Degree = 98.0\n",
      "Node 41: Weighted Degree = 71.0\n",
      "Node 42: Weighted Degree = 102.0\n",
      "Node 43: Weighted Degree = 57.0\n",
      "Node 44: Weighted Degree = 78.0\n",
      "Node 45: Weighted Degree = 22.0\n",
      "Node 46: Weighted Degree = 66.0\n",
      "Node 47: Weighted Degree = 67.0\n",
      "Node 48: Weighted Degree = 94.0\n",
      "Node 49: Weighted Degree = 67.0\n",
      "Node 50: Weighted Degree = 65.0\n",
      "Node 51: Weighted Degree = 55.0\n",
      "Node 52: Weighted Degree = 68.0\n",
      "Node 53: Weighted Degree = 112.0\n",
      "Node 54: Weighted Degree = 38.0\n",
      "Node 55: Weighted Degree = 89.0\n",
      "Node 56: Weighted Degree = 82.0\n",
      "Node 57: Weighted Degree = 84.0\n",
      "Node 58: Weighted Degree = 58.0\n",
      "Node 59: Weighted Degree = 82.0\n",
      "Node 60: Weighted Degree = 52.0\n",
      "Node 61: Weighted Degree = 40.0\n"
     ]
    }
   ],
   "source": [
    "# Compute weighted degree (strength) for each node\n",
    "weighted_degrees = g.strength(weights=g.es[\"weight\"])\n",
    "\n",
    "# Print results\n",
    "for idx, strength in enumerate(weighted_degrees):\n",
    "    print(f\"Node {idx}: Weighted Degree = {strength}\")"
   ]
  },
  {
   "cell_type": "code",
   "execution_count": null,
   "metadata": {},
   "outputs": [
    {
     "data": {
      "image/png": "[encoded data removed]",
      "text/plain": [
       "<Figure size 800x500 with 1 Axes>"
      ]
     },
     "metadata": {},
     "output_type": "display_data"
    }
   ],
   "source": [
    "unique_degrees, counts = np.unique(weighted_degrees, return_counts=True)\n",
    "probabilities = counts / counts.sum()  # Normalize to get probability\n",
    "\n",
    "# Plot the degree distribution\n",
    "plt.figure(figsize=(8, 5))\n",
    "plt.scatter(unique_degrees, probabilities, color='black')  # Dots\n",
    "plt.vlines(unique_degrees, 0, probabilities, color='blue', alpha=0.6)  # Vertical lines\n",
    "\n",
    "# Labels and title\n",
    "plt.xlabel(\"Degree\")\n",
    "plt.ylabel(\"Frequency\")\n",
    "plt.title(\"Degree Distribution of Macaque Dominance with weights\")\n",
    "\n",
    "# Show plot\n",
    "plt.show()\n"
   ]
  },
  {
   "cell_type": "code",
   "execution_count": 45,
   "metadata": {},
   "outputs": [
    {
     "data": {
      "text/plain": [
       "np.int64(62)"
      ]
     },
     "execution_count": 45,
     "metadata": {},
     "output_type": "execute_result"
    }
   ],
   "source": [
    "counts.sum()"
   ]
  },
  {
   "cell_type": "code",
   "execution_count": 57,
   "metadata": {},
   "outputs": [
    {
     "name": "stdout",
     "output_type": "stream",
     "text": [
      "[[0 1 1 ... 0 0 0]\n",
      " [1 0 0 ... 0 0 0]\n",
      " [1 0 0 ... 0 0 0]\n",
      " ...\n",
      " [0 0 0 ... 0 1 0]\n",
      " [0 0 0 ... 1 0 0]\n",
      " [0 0 0 ... 0 0 0]]\n",
      "[[0. 3. 1. ... 0. 0. 0.]\n",
      " [3. 0. 0. ... 0. 0. 0.]\n",
      " [1. 0. 0. ... 0. 0. 0.]\n",
      " ...\n",
      " [0. 0. 0. ... 0. 4. 0.]\n",
      " [0. 0. 0. ... 4. 0. 0.]\n",
      " [0. 0. 0. ... 0. 0. 0.]]\n"
     ]
    }
   ],
   "source": [
    "# Get the adjacency matrix\n",
    "adj_matrix = np.array(g.get_adjacency().data)\n",
    "adj_matrix_w = np.array(g.get_adjacency(attribute=\"weight\").data)\n",
    "\n",
    "# Print the adjacency matrix\n",
    "print(adj_matrix)\n",
    "print(adj_matrix_w)"
   ]
  },
  {
   "cell_type": "code",
   "execution_count": null,
   "metadata": {},
   "outputs": [
    {
     "name": "stdout",
     "output_type": "stream",
     "text": [
      "1510\n",
      "2334\n",
      "0\n"
     ]
    }
   ],
   "source": [
    "adj_matrix.shape\n",
    "adj_matrix.sum(axis=1)\n",
    "adj_matrix.sum(axis=0)\n",
    "#3844\n",
    "print(np.count_nonzero(adj_matrix == 0))\n",
    "print(np.count_nonzero(adj_matrix == 1))"
   ]
  }
 ],
 "metadata": {
  "kernelspec": {
   "display_name": "Python 3",
   "language": "python",
   "name": "python3"
  },
  "language_info": {
   "codemirror_mode": {
    "name": "ipython",
    "version": 3
   },
   "file_extension": ".py",
   "mimetype": "text/x-python",
   "name": "python",
   "nbconvert_exporter": "python",
   "pygments_lexer": "ipython3",
   "version": "3.10.0"
  }
 },
 "nbformat": 4,
 "nbformat_minor": 2
}
