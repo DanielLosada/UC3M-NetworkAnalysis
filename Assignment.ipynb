{
 "cells": [
  {
   "cell_type": "markdown",
   "metadata": {},
   "source": [
    "# Mammalia-Macaque-Dominance Network\n",
    "\n",
    "Laura Silvana Alvarez Luque - Daniel Losada Molina\n"
   ]
  },
  {
   "cell_type": "markdown",
   "metadata": {},
   "source": [
    "The aim of this project is to do a complete analysis of a network of interest. This includes: the network description, modeling through different techniques and results that can be obtained.\n",
    "\n",
    "The selected network contains the dominance relations between *Macaca fuscata* females that were determined based on approach-retreat episodes around the food. The dominance range order was arranged based on these dyadic relations. Dominance is defined as \"Physical contact unique to aggressive dominance interactions such as biting, head butting, fighting\"\n",
    "\n",
    "- **Vertices:** 62 Macaques.\n",
    "- **Edges:** 1.167 edges representing the pairwise dominance between macaques.\n",
    "- **Weights:** Frequency of the dominance.\n",
    "- **Notes:**  This is a animal interation network, undirected and weighted."
   ]
  },
  {
   "cell_type": "markdown",
   "metadata": {},
   "source": [
    "![Macaca Fuscata](./imgs/Macaca.png)\n"
   ]
  },
  {
   "cell_type": "code",
   "execution_count": null,
   "metadata": {},
   "outputs": [],
   "source": [
    "import zipfile\n",
    "import base64\n",
    "\n",
    "import numpy as np\n",
    "import matplotlib.pyplot as plt\n",
    "import igraph as ig\n",
    "import plotly.graph_objects as go\n",
    "import networkx as nx\n",
    "\n",
    "from collections import Counter"
   ]
  },
  {
   "cell_type": "markdown",
   "metadata": {},
   "source": [
    "# Functions"
   ]
  },
  {
   "cell_type": "code",
   "execution_count": null,
   "metadata": {},
   "outputs": [],
   "source": [
    "def unzip_file(zip_path, extract_to):\n",
    "    \"\"\"\n",
    "    Unzip a file from zip_path into the extract_to directory.\n",
    "    \"\"\"\n",
    "    with zipfile.ZipFile(zip_path, 'r') as zip_ref:\n",
    "        zip_ref.extractall(extract_to)\n",
    "\n",
    "def plot_simple_graph(g):\n",
    "    # Layout for node positions\n",
    "    layout = g.layout(\"fr\")  # Fruchterman-Reingold (force-directed)\n",
    "\n",
    "    # Plot using igraph's built-in plot function\n",
    "    ig.plot(\n",
    "        g,\n",
    "        layout=layout,\n",
    "        vertex_label=g.vs.indices,  # show node indices\n",
    "        edge_width=[w for w in g.es[\"weight\"]],\n",
    "        bbox=(800, 800),\n",
    "        margin=50\n",
    "    )\n",
    "\n",
    "def plotly_graph(g):    \n",
    "    # Convert to NetworkX\n",
    "    G_nx = g.to_networkx()\n",
    "\n",
    "    # Get layout positions\n",
    "    pos = nx.spring_layout(G_nx)\n",
    "\n",
    "    # Prepare edge lines\n",
    "    edge_x = []\n",
    "    edge_y = []\n",
    "    for u, v in G_nx.edges():\n",
    "        x0, y0 = pos[u]\n",
    "        x1, y1 = pos[v]\n",
    "        edge_x += [x0, x1, None]\n",
    "        edge_y += [y0, y1, None]\n",
    "\n",
    "    edge_trace = go.Scatter(\n",
    "        x=edge_x,\n",
    "        y=edge_y,\n",
    "        line=dict(width=0.5, color='#888'),\n",
    "        hoverinfo='none',\n",
    "        mode='lines',\n",
    "        showlegend=False\n",
    "    )\n",
    "\n",
    "    # Create \"hover points\" at edge midpoints\n",
    "    edge_hover_x = []\n",
    "    edge_hover_y = []\n",
    "    edge_text = []\n",
    "\n",
    "    for u, v, data in G_nx.edges(data=True):\n",
    "        x0, y0 = pos[u]\n",
    "        x1, y1 = pos[v]\n",
    "        edge_hover_x.append((x0 + x1) / 2)\n",
    "        edge_hover_y.append((y0 + y1) / 2)\n",
    "        weight = data.get(\"weight\", 1)\n",
    "        edge_text.append(f\"{u} — {v}<br>weight: {weight}\")\n",
    "\n",
    "    edge_hover_trace = go.Scatter(\n",
    "        x=edge_hover_x,\n",
    "        y=edge_hover_y,\n",
    "        mode='markers',\n",
    "        hoverinfo='text',\n",
    "        text=edge_text,\n",
    "        marker=dict(size=5, color='rgba(0,0,0,0)'),  # invisible\n",
    "        showlegend=False\n",
    "    )\n",
    "\n",
    "    # Prepare node positions\n",
    "    node_x = []\n",
    "    node_y = []\n",
    "    node_text = []\n",
    "    for node in G_nx.nodes():\n",
    "        x, y = pos[node]\n",
    "        node_x.append(x)\n",
    "        node_y.append(y)\n",
    "        node_text.append(f\"Node {node}\")\n",
    "\n",
    "    node_trace = go.Scatter(\n",
    "        x=node_x,\n",
    "        y=node_y,\n",
    "        mode='markers+text',\n",
    "        text=[str(n) for n in G_nx.nodes()],\n",
    "        textposition='top center',\n",
    "        hoverinfo='text',\n",
    "        marker=dict(\n",
    "            size=10,\n",
    "            color='lightblue',\n",
    "            line_width=1\n",
    "        )\n",
    "    )\n",
    "\n",
    "    # Combine everything\n",
    "    fig = go.Figure(\n",
    "        data=[edge_trace, edge_hover_trace, node_trace],\n",
    "        layout=go.Layout(\n",
    "            title='Dominance Network of Macaques',\n",
    "            showlegend=False,\n",
    "            hovermode='closest',\n",
    "            margin=dict(b=20, l=5, r=5, t=40),\n",
    "            xaxis=dict(showgrid=False, zeroline=False),\n",
    "            yaxis=dict(showgrid=False, zeroline=False)\n",
    "        )\n",
    "    )\n",
    "\n",
    "    fig.show()\n",
    "\n",
    "def get_weights_of_path(g, path):\n",
    "    \"\"\"\n",
    "    Given a path, return the weights of the edges along that path.\n",
    "    \"\"\"\n",
    "    original_weights = []\n",
    "    inv_weights = []\n",
    "\n",
    "    for i in range(len(path) - 1):\n",
    "        source = path[i]\n",
    "        target = path[i + 1]\n",
    "\n",
    "        # Get edge ID between consecutive vertices\n",
    "        edge_id = g.get_eid(source, target)\n",
    "\n",
    "        # Extract weights\n",
    "        w = g.es[edge_id][\"weight\"]\n",
    "        iw = g.es[edge_id][\"inv_weight\"]\n",
    "\n",
    "        original_weights.append(w)\n",
    "        inv_weights.append(iw)\n",
    "\n",
    "    # Print results\n",
    "    print(\"Original weights on path:\", original_weights)\n",
    "    print(\"Inverted weights on path:\", inv_weights)\n",
    "\n",
    "\n",
    "def plot_degree_distribution(g, title=\"Degree Distribution\", weighted=False):\n",
    "    \"\"\"\n",
    "    Computes degrees (weighted or unweighted), plots their distribution,\n",
    "    and returns degree info including max degree and corresponding vertex/vertices.\n",
    "    \"\"\"\n",
    "    # Choose between weighted and unweighted degree\n",
    "    if weighted:\n",
    "        degrees = g.strength(weights=g.es[\"weight\"])\n",
    "    else:\n",
    "        degrees = g.degree()\n",
    "\n",
    "    # Compute degree distribution\n",
    "    unique_degrees, counts = np.unique(degrees, return_counts=True)\n",
    "    probabilities = counts / counts.sum()\n",
    "\n",
    "    # Plot the distribution\n",
    "    plt.figure(figsize=(8, 5))\n",
    "    plt.scatter(unique_degrees, probabilities, color='black')  # Dots\n",
    "    plt.vlines(unique_degrees, 0, probabilities, color='blue', alpha=0.6)  # Lines\n",
    "\n",
    "    # Labels and title\n",
    "    plt.xlabel(\"Degree\")\n",
    "    plt.ylabel(\"Frequency\")\n",
    "    plt.title(title)\n",
    "\n",
    "    # Show plot\n",
    "    plt.show()\n",
    "\n",
    "    # Get max degree and vertex/vertices\n",
    "    max_degree = max(degrees)\n",
    "    vertices_with_max = [v.index for v, d in zip(g.vs, degrees) if d == max_degree]\n",
    "\n",
    "    # Return degrees and distribution if needed later\n",
    "    return degrees, unique_degrees, probabilities, max_degree, vertices_with_max"
   ]
  },
  {
   "cell_type": "code",
   "execution_count": null,
   "metadata": {},
   "outputs": [],
   "source": [
    "%%capture\n",
    "def plotly_graph_with_same_image(g, image_path='./imgs/macaco_agua_sin_fondo.png'):\n",
    "    # Load and encode image as base64\n",
    "    with open(image_path, \"rb\") as image_file:\n",
    "        encoded_image = base64.b64encode(image_file.read()).decode()\n",
    "        image_uri = f'data:image/png;base64,{encoded_image}'\n",
    "\n",
    "    # Convert to NetworkX\n",
    "    G_nx = g.to_networkx()\n",
    "    pos = nx.spring_layout(G_nx)\n",
    "\n",
    "    # Prepare edge lines\n",
    "    edge_x = []\n",
    "    edge_y = []\n",
    "    for u, v in G_nx.edges():\n",
    "        x0, y0 = pos[u]\n",
    "        x1, y1 = pos[v]\n",
    "        edge_x += [x0, x1, None]\n",
    "        edge_y += [y0, y1, None]\n",
    "\n",
    "    edge_trace = go.Scatter(\n",
    "        x=edge_x, y=edge_y,\n",
    "        line=dict(width=0.5, color='#888'),\n",
    "        hoverinfo='none', mode='lines',\n",
    "        showlegend=False\n",
    "    )\n",
    "\n",
    "    # Prepare node positions and hover info\n",
    "    node_x = []\n",
    "    node_y = []\n",
    "    node_text = []\n",
    "    for node in G_nx.nodes():\n",
    "        x, y = pos[node]\n",
    "        node_x.append(x)\n",
    "        node_y.append(y)\n",
    "        node_text.append(f\"Node {node}\")\n",
    "\n",
    "    node_trace = go.Scatter(\n",
    "        x=node_x, y=node_y,\n",
    "        mode='markers',\n",
    "        hoverinfo='text',\n",
    "        text=node_text,\n",
    "        marker=dict(size=20, color='rgba(0,0,0,0)'),  # invisible\n",
    "        showlegend=False\n",
    "    )\n",
    "\n",
    "    label_trace = go.Scatter(\n",
    "        x=node_x,\n",
    "        y=[y - 0.03 for y in node_y],\n",
    "        mode='text',\n",
    "        text=[str(n) for n in G_nx.nodes()],\n",
    "        textposition='bottom center',\n",
    "        hoverinfo='none',\n",
    "        showlegend=False\n",
    "    )\n",
    "\n",
    "    # Add the same image to all nodes\n",
    "    image_traces = []\n",
    "    for x, y in pos.values():\n",
    "        image_traces.append(\n",
    "            dict(\n",
    "                source=image_uri,\n",
    "                xref=\"x\", yref=\"y\",\n",
    "                x=x - 0.05, y=y + 0.05,\n",
    "                sizex=0.1, sizey=0.1,\n",
    "                xanchor=\"left\", yanchor=\"top\",\n",
    "                sizing=\"stretch\",\n",
    "                opacity=1,\n",
    "                layer=\"above\"\n",
    "            )\n",
    "        )\n",
    "\n",
    "    # Build the figure\n",
    "    fig = go.Figure(\n",
    "        data=[edge_trace, node_trace, label_trace],\n",
    "        layout=go.Layout(\n",
    "            title='Graph with Macaque Image on Each Node',\n",
    "            images=image_traces,\n",
    "            showlegend=False,\n",
    "            hovermode='closest',\n",
    "            margin=dict(b=20, l=5, r=5, t=40),\n",
    "            xaxis=dict(showgrid=False, zeroline=False),\n",
    "            yaxis=dict(showgrid=False, zeroline=False)\n",
    "        )\n",
    "    )\n",
    "\n",
    "    fig.show()"
   ]
  },
  {
   "cell_type": "markdown",
   "metadata": {},
   "source": [
    "# 1. Input data"
   ]
  },
  {
   "cell_type": "code",
   "execution_count": null,
   "metadata": {},
   "outputs": [],
   "source": [
    "unzip_file('./mammalia-macaque-dominance.zip', './data')"
   ]
  },
  {
   "cell_type": "code",
   "execution_count": null,
   "metadata": {},
   "outputs": [],
   "source": [
    "#%%capture\n",
    "g = ig.Graph.Read_Ncol(\"data/mammalia-macaque-dominance.edges\", weights=True, directed=False)\n",
    "print(g.summary())\n"
   ]
  },
  {
   "cell_type": "code",
   "execution_count": null,
   "metadata": {},
   "outputs": [],
   "source": [
    "%%capture\n",
    "#plotly_graph(g)"
   ]
  },
  {
   "cell_type": "markdown",
   "metadata": {},
   "source": [
    "![Macaca Fuscata](./imgs/Graph_with_macaca_face.png)\n"
   ]
  },
  {
   "cell_type": "code",
   "execution_count": null,
   "metadata": {},
   "outputs": [],
   "source": [
    "order = g.vcount()\n",
    "size = g.ecount()\n",
    "\n",
    "print(f\"The order of the network is: {order} (vertices)\")\n",
    "print(f\"The size of the network is: {size} (edges)\")"
   ]
  },
  {
   "cell_type": "markdown",
   "metadata": {},
   "source": [
    "We are dealing with a highly connected graph, as we can see by the edge-vertex ratio:\n",
    "\n",
    "$ \\frac{|E|}{|V|} = \\frac{1167}{62} \\approx 18.82 $\n",
    "\n",
    "This means that in average, we have 18.82 edges per vertex. That's why is not surprising to find that we only have one big component that contains all vertices. Also for this reason, we don't have any subnetwork of interest and all the analysis will be done in the whole network."
   ]
  },
  {
   "cell_type": "code",
   "execution_count": null,
   "metadata": {},
   "outputs": [],
   "source": [
    "components = g.components()\n",
    "print(f\"Number of subnetworks: {len(components)}\")"
   ]
  },
  {
   "cell_type": "markdown",
   "metadata": {},
   "source": [
    "Due to the nature of our data, loops make no sense, as the edges represent interaction between two individuals. Anyways we check that our data has zero edges with same source and target."
   ]
  },
  {
   "cell_type": "code",
   "execution_count": null,
   "metadata": {},
   "outputs": [],
   "source": [
    "sum(g.is_loop())"
   ]
  },
  {
   "cell_type": "markdown",
   "metadata": {},
   "source": [
    "With the degree distribution we can check that the network is highly connected as we saw previously. It does not have the clasical decreasing distribution starting in small degree values, instead, it starts in 14 and seems to have a bimodal distribution with concentrations around 34 and 44. Also, the most conected vertex is the 29 with 55 edges connected to it."
   ]
  },
  {
   "cell_type": "code",
   "execution_count": null,
   "metadata": {},
   "outputs": [],
   "source": [
    "degrees, unique_deg, probs, max_deg, max_vertices = plot_degree_distribution(g)\n",
    "\n",
    "print(f\"Max degree: {max_deg}\")\n",
    "print(f\"Vertices with max degree: {max_vertices}\")"
   ]
  },
  {
   "cell_type": "markdown",
   "metadata": {},
   "source": [
    "Analysing the weighted degree distribution, the bimodal distribution is lost, and the maximum is centered around 80. On the other hand, the minimum value remains large, and the most connected vertex is still the 29."
   ]
  },
  {
   "cell_type": "code",
   "execution_count": null,
   "metadata": {},
   "outputs": [],
   "source": [
    "degrees_w, unique_deg_w, probs_w, max_deg_w, max_vertices_w = plot_degree_distribution(g, weighted=True)\n",
    "\n",
    "print(f\"Max degree: {max_deg_w}\")\n",
    "print(f\"Vertices with max degree: {max_vertices_w}\")"
   ]
  },
  {
   "cell_type": "markdown",
   "metadata": {},
   "source": [
    "Next we are going to compute the diameter."
   ]
  },
  {
   "cell_type": "code",
   "execution_count": null,
   "metadata": {},
   "outputs": [],
   "source": [
    "# Diameter (unweighted)\n",
    "diameter = g.diameter(directed=False, weights=None)\n",
    "print(\"Unweighted diameter:\", diameter)\n",
    "\n",
    "# Get the actual pair of farthest nodes and the path\n",
    "farthest_pair = g.get_diameter(directed=False, weights=None)\n",
    "print(\"Farthest vertices (unweighted):\", farthest_pair)\n"
   ]
  },
  {
   "cell_type": "markdown",
   "metadata": {},
   "source": [
    "As we already seen, our graph is highly connected, so that the unweighted diameter is 2 is quite intuitive. That means that between two indivituals, there is a path of at most 2 (another individual in the middle). But it's not a special case to have a shortest distance of 2, in fact we have 1448 paths of length 2. This means that there are 1448 pairs of individuals that are not directly connected, but they are connected through another individual."
   ]
  },
  {
   "cell_type": "code",
   "execution_count": null,
   "metadata": {},
   "outputs": [],
   "source": [
    "sp_lengths = g.distances(weights=None)  # or .shortest_paths()\n",
    "\n",
    "distances = [dist for row in sp_lengths for dist in row if dist != 0]\n",
    "dist_count = Counter(distances)\n",
    "print(dist_count)\n"
   ]
  },
  {
   "cell_type": "markdown",
   "metadata": {},
   "source": [
    "To compute the weighted diameter, we need to invert the weights, as in our case higher weight means higher connection."
   ]
  },
  {
   "cell_type": "code",
   "execution_count": null,
   "metadata": {},
   "outputs": [],
   "source": [
    "# Add inverse weights (handle division by zero if needed)\n",
    "g.es[\"inv_weight\"] = [1/w if w != 0 else float(\"inf\") for w in g.es[\"weight\"]]\n",
    "\n",
    "# Then compute diameter using this new attribute\n",
    "diameter_w = g.diameter(directed=False, weights=\"inv_weight\")\n",
    "path_w = g.get_diameter(directed=False, weights=\"inv_weight\")\n",
    "\n",
    "print(\"Weighted diameter (based on interaction):\", diameter_w)\n",
    "print(\"Farthest vertices (based on interaction):\", path_w)"
   ]
  },
  {
   "cell_type": "markdown",
   "metadata": {},
   "source": [
    "The longest shortest path is connected through a path whose total inverse-weight is 1.0833.\n",
    "Notice that using the weights now we obtain a farthest path that contains 3 edges that connect 4 individuals."
   ]
  },
  {
   "cell_type": "code",
   "execution_count": null,
   "metadata": {},
   "outputs": [],
   "source": [
    "get_weights_of_path(g, path_w)"
   ]
  },
  {
   "cell_type": "markdown",
   "metadata": {},
   "source": [
    "Finally, we compute the adjancency matrix and compare the results previously obtained."
   ]
  },
  {
   "cell_type": "code",
   "execution_count": null,
   "metadata": {},
   "outputs": [],
   "source": [
    "# Get the adjacency matrix\n",
    "adj_matrix = np.array(g.get_adjacency().data)\n",
    "adj_matrix_w = np.array(g.get_adjacency(attribute=\"weight\").data)\n",
    " \n",
    "# Print the adjacency matrix\n",
    "print(adj_matrix)\n",
    "print(adj_matrix_w)"
   ]
  },
  {
   "cell_type": "code",
   "execution_count": null,
   "metadata": {},
   "outputs": [],
   "source": [
    "# Results from the adjacence matrix\n",
    "\n",
    "## degrees\n",
    "degrees_adj = adj_matrix.sum(axis=0)  \n",
    "\n",
    "## directed or undirected\n",
    "is_symmetric = np.allclose(adj_matrix, adj_matrix.T)\n",
    "\n",
    "## Loops\n",
    "self_loops = np.trace(adj_matrix)\n",
    "\n",
    "## Nodes with degree 0 (isolated)\n",
    "isolated = np.where(adj_matrix.sum(axis=1) == 0)[0]\n",
    "\n",
    "print(degrees_adj)\n",
    "print(is_symmetric)\n",
    "print(self_loops)\n",
    "print(isolated)"
   ]
  },
  {
   "cell_type": "markdown",
   "metadata": {},
   "source": [
    "The density is defined as:\n",
    "$$\n",
    "Density = \\frac{2 \\times edges}{n(n-1)}\n",
    "$$\n",
    "\n",
    "So is making a relation between the connections and the number of vertices. A high number means a dense network, while a small number a sparse one. "
   ]
  },
  {
   "cell_type": "code",
   "execution_count": null,
   "metadata": {},
   "outputs": [],
   "source": [
    "# Compute and print density\n",
    "density = g.density(loops=False)\n",
    "print(f\"\\nNetwork density: {density:.4f}\")\n",
    "\n",
    "# Interpret\n",
    "if density > 0.5:\n",
    "    print(\"This is a dense network.\")\n",
    "elif density < 0.1:\n",
    "    print(\"This is a sparse network.\")\n",
    "else:\n",
    "    print(\"This is a moderately connected network.\")"
   ]
  }
 ],
 "metadata": {
  "kernelspec": {
   "display_name": "networks",
   "language": "python",
   "name": "python3"
  },
  "language_info": {
   "codemirror_mode": {
    "name": "ipython",
    "version": 3
   },
   "file_extension": ".py",
   "mimetype": "text/x-python",
   "name": "python",
   "nbconvert_exporter": "python",
   "pygments_lexer": "ipython3",
   "version": "3.13.2"
  }
 },
 "nbformat": 4,
 "nbformat_minor": 2
}
