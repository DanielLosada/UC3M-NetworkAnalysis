{
 "cells": [
  {
   "cell_type": "markdown",
   "metadata": {},
   "source": [
    "# Mammalia-Macaque-Dominance Network\n",
    "\n",
    "Laura Silvana Alvarez Luque - Daniel Losada Molina\n"
   ]
  },
  {
   "cell_type": "markdown",
   "metadata": {},
   "source": [
    "The dominance relations between *Macaca fuscata* females were determined based on approach-retreat episodes around the food. The dominance range order was arranged based on these dyadic relations. Dominance is defined as \"Physical contact unique to aggressive dominance interactions such as biting, head butting, fighting\"\n",
    "\n",
    "- **Vertices:** 62 Macaques.\n",
    "- **Edges:** 1.167 edges representing the pairwise dominance between macaques.\n",
    "- **Weights:** Frequency of the dominance.\n",
    "- **Notes:**  This is a animal interation network, undirected and weighted."
   ]
  },
  {
   "cell_type": "markdown",
   "metadata": {},
   "source": [
    "![Macaca Fuscata](./imgs/Macaca.png)\n"
   ]
  },
  {
   "cell_type": "code",
   "execution_count": 1,
   "metadata": {},
   "outputs": [],
   "source": [
    "import zipfile\n",
    "\n",
    "import matplotlib.pyplot as plt\n",
    "import igraph as ig\n",
    "import plotly.graph_objects as go\n",
    "import networkx as nx"
   ]
  },
  {
   "cell_type": "markdown",
   "metadata": {},
   "source": [
    "# Functions"
   ]
  },
  {
   "cell_type": "code",
   "execution_count": null,
   "metadata": {},
   "outputs": [],
   "source": [
    "def unzip_file(zip_path, extract_to):\n",
    "    \"\"\"\n",
    "    Unzip a file from zip_path into the extract_to directory.\n",
    "    \"\"\"\n",
    "    with zipfile.ZipFile(zip_path, 'r') as zip_ref:\n",
    "        zip_ref.extractall(extract_to)\n",
    "\n",
    "def plot_simple_graph(g):\n",
    "    # Layout for node positions\n",
    "    layout = g.layout(\"fr\")  # Fruchterman-Reingold (force-directed)\n",
    "\n",
    "    # Plot using igraph's built-in plot function\n",
    "    ig.plot(\n",
    "        g,\n",
    "        layout=layout,\n",
    "        vertex_label=g.vs.indices,  # show node indices\n",
    "        edge_width=[w for w in g.es[\"weight\"]],\n",
    "        bbox=(800, 800),\n",
    "        margin=50\n",
    "    )\n",
    "\n",
    "def plotly_graph(g):    \n",
    "    # Convert to NetworkX\n",
    "    G_nx = g.to_networkx()\n",
    "\n",
    "    # Get layout positions\n",
    "    pos = nx.spring_layout(G_nx)\n",
    "\n",
    "    # Prepare edge lines\n",
    "    edge_x = []\n",
    "    edge_y = []\n",
    "    for u, v in G_nx.edges():\n",
    "        x0, y0 = pos[u]\n",
    "        x1, y1 = pos[v]\n",
    "        edge_x += [x0, x1, None]\n",
    "        edge_y += [y0, y1, None]\n",
    "\n",
    "    edge_trace = go.Scatter(\n",
    "        x=edge_x,\n",
    "        y=edge_y,\n",
    "        line=dict(width=0.5, color='#888'),\n",
    "        hoverinfo='none',\n",
    "        mode='lines',\n",
    "        showlegend=False\n",
    "    )\n",
    "\n",
    "    # Create \"hover points\" at edge midpoints\n",
    "    edge_hover_x = []\n",
    "    edge_hover_y = []\n",
    "    edge_text = []\n",
    "\n",
    "    for u, v, data in G_nx.edges(data=True):\n",
    "        x0, y0 = pos[u]\n",
    "        x1, y1 = pos[v]\n",
    "        edge_hover_x.append((x0 + x1) / 2)\n",
    "        edge_hover_y.append((y0 + y1) / 2)\n",
    "        weight = data.get(\"weight\", 1)\n",
    "        edge_text.append(f\"{u} — {v}<br>weight: {weight}\")\n",
    "\n",
    "    edge_hover_trace = go.Scatter(\n",
    "        x=edge_hover_x,\n",
    "        y=edge_hover_y,\n",
    "        mode='markers',\n",
    "        hoverinfo='text',\n",
    "        text=edge_text,\n",
    "        marker=dict(size=5, color='rgba(0,0,0,0)'),  # invisible\n",
    "        showlegend=False\n",
    "    )\n",
    "\n",
    "    # Prepare node positions\n",
    "    node_x = []\n",
    "    node_y = []\n",
    "    node_text = []\n",
    "    for node in G_nx.nodes():\n",
    "        x, y = pos[node]\n",
    "        node_x.append(x)\n",
    "        node_y.append(y)\n",
    "        node_text.append(f\"Node {node}\")\n",
    "\n",
    "    node_trace = go.Scatter(\n",
    "        x=node_x,\n",
    "        y=node_y,\n",
    "        mode='markers+text',\n",
    "        text=[str(n) for n in G_nx.nodes()],\n",
    "        textposition='top center',\n",
    "        hoverinfo='text',\n",
    "        marker=dict(\n",
    "            size=10,\n",
    "            color='lightblue',\n",
    "            line_width=1\n",
    "        )\n",
    "    )\n",
    "\n",
    "    # Combine everything\n",
    "    fig = go.Figure(\n",
    "        data=[edge_trace, edge_hover_trace, node_trace],\n",
    "        layout=go.Layout(\n",
    "            title='Dominance Network of Macaques',\n",
    "            showlegend=False,\n",
    "            hovermode='closest',\n",
    "            margin=dict(b=20, l=5, r=5, t=40),\n",
    "            xaxis=dict(showgrid=False, zeroline=False),\n",
    "            yaxis=dict(showgrid=False, zeroline=False)\n",
    "        )\n",
    "    )\n",
    "\n",
    "    fig.show()"
   ]
  },
  {
   "cell_type": "markdown",
   "metadata": {},
   "source": [
    "# 1. Input data"
   ]
  },
  {
   "cell_type": "code",
   "execution_count": null,
   "metadata": {},
   "outputs": [],
   "source": [
    "unzip_file('./mammalia-macaque-dominance.zip', './data')"
   ]
  },
  {
   "cell_type": "code",
   "execution_count": null,
   "metadata": {},
   "outputs": [],
   "source": [
    "#%%capture\n",
    "g = ig.Graph.Read_Ncol(\"data/mammalia-macaque-dominance.edges\", weights=True, directed=False)\n",
    "print(g.summary())\n"
   ]
  },
  {
   "cell_type": "code",
   "execution_count": null,
   "metadata": {},
   "outputs": [],
   "source": [
    "#plotly_graph(g)"
   ]
  },
  {
   "cell_type": "markdown",
   "metadata": {},
   "source": [
    "![Macaca Fuscata](./imgs/Graph.png)\n"
   ]
  },
  {
   "cell_type": "markdown",
   "metadata": {},
   "source": [
    "We are dealing with a highly connected graph, as we can see by the edge-vertex ratio:\n",
    "\n",
    "$ \\frac{|E|}{|V|} = \\frac{1167}{62} \\approx 18.82 $\n",
    "\n",
    "This means that in average, we have 18.82 edges per vertex."
   ]
  },
  {
   "cell_type": "code",
   "execution_count": 14,
   "metadata": {},
   "outputs": [
    {
     "name": "stdout",
     "output_type": "stream",
     "text": [
      "Weakly connected components:  1\n",
      "Strongly connected components:  Clustering with 62 elements and 1 clusters\n",
      "[0] 1, 2, 3, 8, 10, 11, 12, 13, 14, 16, 18, 20, 21, 22, 23, 24, 26, 30, 31,\n",
      "    33, 35, 36, 37, 38, 40, 42, 43, 45, 47, 48, 49, 50, 51, 52, 55, 56, 57,\n",
      "    58, 59, 29, 41, 44, 53, 61, 5, 6, 17, 19, 25, 27, 28, 32, 34, 39, 46, 54,\n",
      "    60, 62, 4, 9, 15, 7\n",
      "0.5975422427035331\n"
     ]
    }
   ],
   "source": [
    "components_weak = g.components()\n",
    "print(\"Weakly connected components: \", len(components_weak))\n",
    "\n",
    "components_strong = g.components(mode=\"strong\")\n",
    "print(\"Strongly connected components: \", (components_strong))\n",
    "\n",
    "density = g.density(loops=True)\n",
    "print(density)"
   ]
  }
 ],
 "metadata": {
  "kernelspec": {
   "display_name": "network",
   "language": "python",
   "name": "python3"
  },
  "language_info": {
   "codemirror_mode": {
    "name": "ipython",
    "version": 3
   },
   "file_extension": ".py",
   "mimetype": "text/x-python",
   "name": "python",
   "nbconvert_exporter": "python",
   "pygments_lexer": "ipython3",
   "version": "3.13.2"
  }
 },
 "nbformat": 4,
 "nbformat_minor": 2
}
